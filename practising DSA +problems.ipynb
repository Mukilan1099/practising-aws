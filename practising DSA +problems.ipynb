{
 "cells": [
  {
   "cell_type": "code",
   "execution_count": 6,
   "id": "944e1f59",
   "metadata": {},
   "outputs": [],
   "source": [
    "def add_numbers(a: int, b: int) -> int:\n",
    "    return a + b"
   ]
  },
  {
   "cell_type": "code",
   "execution_count": 7,
   "id": "dea9c560",
   "metadata": {},
   "outputs": [
    {
     "data": {
      "text/plain": [
       "13"
      ]
     },
     "execution_count": 7,
     "metadata": {},
     "output_type": "execute_result"
    }
   ],
   "source": [
    "add_numbers(5,8)"
   ]
  },
  {
   "cell_type": "code",
   "execution_count": null,
   "id": "d019625d",
   "metadata": {},
   "outputs": [],
   "source": []
  },
  {
   "cell_type": "code",
   "execution_count": 8,
   "id": "28db3c19",
   "metadata": {},
   "outputs": [],
   "source": [
    "nums = [-4,-2,1,4,8]\n"
   ]
  },
  {
   "cell_type": "code",
   "execution_count": 20,
   "id": "c8ad5e30",
   "metadata": {},
   "outputs": [
    {
     "name": "stdout",
     "output_type": "stream",
     "text": [
      "less: [-4, -2]\n",
      "more: [1, 4, 8]\n",
      "[-4, -2]\n",
      "[1, 4, 8]\n",
      "[-4, -2, 1, 4, 8]\n"
     ]
    }
   ],
   "source": [
    "less=[]\n",
    "more=[]\n",
    "for i in nums:\n",
    "    if i<0:\n",
    "        less.append(i)\n",
    "    else:\n",
    "        more.append(i)\n",
    "print(\"less:\",less)\n",
    "print(\"more:\",more)\n",
    "less.sort()\n",
    "print(less)\n",
    "more.sort()\n",
    "print(more)\n",
    "less.extend(more)\n",
    "print(less)\n",
    "\n",
    "\n",
    "        \n",
    "        "
   ]
  },
  {
   "cell_type": "code",
   "execution_count": 15,
   "id": "6e7962e3",
   "metadata": {},
   "outputs": [],
   "source": []
  },
  {
   "cell_type": "code",
   "execution_count": 21,
   "id": "4f781116",
   "metadata": {},
   "outputs": [],
   "source": [
    "nums = [-4,-2,1,4,8]\n"
   ]
  },
  {
   "cell_type": "code",
   "execution_count": 22,
   "id": "a64c389f",
   "metadata": {},
   "outputs": [
    {
     "name": "stdout",
     "output_type": "stream",
     "text": [
      "1\n"
     ]
    }
   ],
   "source": [
    "closest_number=nums[0]\n",
    "for i in nums:\n",
    "    if abs(i)<abs(closest_number):####abs gives the absolute value...i.e the distance from 0 in the scale,whether it is positive or negative.\n",
    "        closest_number=i\n",
    "print(closest_number)"
   ]
  },
  {
   "cell_type": "code",
   "execution_count": 23,
   "id": "fe59cc4a",
   "metadata": {},
   "outputs": [],
   "source": [
    "nums=[2,-1,1]"
   ]
  },
  {
   "cell_type": "code",
   "execution_count": 27,
   "id": "92686405",
   "metadata": {},
   "outputs": [
    {
     "name": "stdout",
     "output_type": "stream",
     "text": [
      "1\n"
     ]
    }
   ],
   "source": [
    "closest_number=nums[0]\n",
    "for i in nums:\n",
    "    if abs(i)<abs(closest_number) or abs(i)==abs(closest_number)and i>closest_number:####abs gives the absolute value...i.e the distance from 0 in the scale,whether it is positive or negative.\n",
    "        closest_number=i\n",
    "print(closest_number)"
   ]
  },
  {
   "cell_type": "code",
   "execution_count": 13,
   "id": "486faf0a",
   "metadata": {},
   "outputs": [
    {
     "name": "stdout",
     "output_type": "stream",
     "text": [
      "hweolrlo\n"
     ]
    }
   ],
   "source": [
    "def merge_words(word1, word2):\n",
    "    min_length = min(len(word1), len(word2))\n",
    "    merged = ''.join(a + b for a, b in zip(word1, word2))\n",
    "    if len(word1) > min_length:\n",
    "        merged += word1[min_length:]\n",
    "    elif len(word2) > min_length:\n",
    "        merged += word2[min_length:]\n",
    "    \n",
    "    return merged\n",
    "\n",
    "\n",
    "word1 = \"hello\"\n",
    "word2 = \"wor\"\n",
    "result = merge_words(word1, word2)\n",
    "print(result)  \n"
   ]
  },
  {
   "cell_type": "code",
   "execution_count": 8,
   "id": "c00f9db7",
   "metadata": {},
   "outputs": [
    {
     "name": "stdout",
     "output_type": "stream",
     "text": [
      "llo\n"
     ]
    }
   ],
   "source": [
    "a='hello'\n",
    "c=a[2:]\n",
    "print(c)"
   ]
  },
  {
   "cell_type": "code",
   "execution_count": 21,
   "id": "dfbe8738",
   "metadata": {},
   "outputs": [
    {
     "name": "stdout",
     "output_type": "stream",
     "text": [
      "hw\n",
      "eo\n",
      "lr\n"
     ]
    }
   ],
   "source": [
    "word1 = \"hello\"\n",
    "word2 = \"wor\"\n",
    "c=list(zip(word1,word2))\n",
    "# print(c)\n",
    "for a,b in c:\n",
    "    print(a+b)"
   ]
  },
  {
   "cell_type": "code",
   "execution_count": 28,
   "id": "001ebfec",
   "metadata": {},
   "outputs": [
    {
     "name": "stdout",
     "output_type": "stream",
     "text": [
      "3\n",
      "4\n",
      "9\n",
      "58\n",
      "1994\n"
     ]
    }
   ],
   "source": []
  },
  {
   "cell_type": "code",
   "execution_count": 30,
   "id": "14712547",
   "metadata": {},
   "outputs": [],
   "source": [
    "s=\"mukil\"\n"
   ]
  },
  {
   "cell_type": "code",
   "execution_count": 31,
   "id": "3ad83aab",
   "metadata": {},
   "outputs": [
    {
     "data": {
      "text/plain": [
       "'k'"
      ]
     },
     "execution_count": 31,
     "metadata": {},
     "output_type": "execute_result"
    }
   ],
   "source": [
    "s[2]"
   ]
  },
  {
   "cell_type": "code",
   "execution_count": null,
   "id": "d09fbf75",
   "metadata": {},
   "outputs": [],
   "source": []
  },
  {
   "cell_type": "code",
   "execution_count": 48,
   "id": "a6d89355",
   "metadata": {},
   "outputs": [],
   "source": [
    "def romaninterger(stri:str)->int:\n",
    "    roman_values = {\n",
    "        'I': 1,\n",
    "        'V': 5,\n",
    "        'X': 10,\n",
    "        'L': 50,\n",
    "        'C': 100,\n",
    "        'D': 500,\n",
    "        'M': 1000\n",
    "    }\n",
    "    total=0\n",
    "    length=len(stri)\n",
    "    \n",
    "    for i in range(length):\n",
    "        value=roman_values[stri[i]]\n",
    "        \n",
    "        if i<length-1 and value<roman_values[stri[i+1]]:\n",
    "            total=total-value\n",
    "        else:\n",
    "            total=total+value\n",
    "    print(total)\n",
    "        "
   ]
  },
  {
   "cell_type": "code",
   "execution_count": 49,
   "id": "e844aacc",
   "metadata": {},
   "outputs": [
    {
     "name": "stdout",
     "output_type": "stream",
     "text": [
      "7\n"
     ]
    }
   ],
   "source": [
    "romaninterger('VII')"
   ]
  },
  {
   "cell_type": "code",
   "execution_count": 59,
   "id": "900f8ee5",
   "metadata": {},
   "outputs": [],
   "source": []
  },
  {
   "cell_type": "code",
   "execution_count": null,
   "id": "b1535c6d",
   "metadata": {},
   "outputs": [],
   "source": []
  },
  {
   "cell_type": "code",
   "execution_count": null,
   "id": "3acf65fc",
   "metadata": {},
   "outputs": [],
   "source": [
    "#subsequence of number"
   ]
  },
  {
   "cell_type": "code",
   "execution_count": 88,
   "id": "97475f4d",
   "metadata": {},
   "outputs": [
    {
     "name": "stdout",
     "output_type": "stream",
     "text": [
      "ac\n",
      "False\n"
     ]
    }
   ],
   "source": [
    "s=\"axc\"\n",
    "g=\"ahbgdc\"\n",
    "word=''\n",
    "for i in s:\n",
    "    for j in g:\n",
    "        if i==j:\n",
    "            word=word+i\n",
    "print(word)\n",
    "if word==s:\n",
    "    print(\"True\")\n",
    "else:\n",
    "    print(\"False\")"
   ]
  },
  {
   "cell_type": "code",
   "execution_count": 104,
   "id": "8c368c0d",
   "metadata": {},
   "outputs": [
    {
     "name": "stdout",
     "output_type": "stream",
     "text": [
      "[0, 6, 2, 4, 1, 3]\n",
      "[0, 6, 2, 4, 1, 3]\n",
      "6\n"
     ]
    }
   ],
   "source": [
    "prices = [7,1,5,3,6,4]\n",
    "constant=prices[0]\n",
    "pro=[]\n",
    "diff=[]\n",
    "for i in prices:\n",
    "    profit=constant-i\n",
    "    difflist=diff.append(constant-i)\n",
    "    newlist=pro.append(profit)\n",
    "print(pro)\n",
    "print(diff)\n",
    "print(max(pro))\n",
    "# for j in prices:\n",
    "#     if prices[j]==max(pro):\n",
    "#         print(j)"
   ]
  },
  {
   "cell_type": "code",
   "execution_count": 147,
   "id": "b915ccbe",
   "metadata": {},
   "outputs": [
    {
     "name": "stdout",
     "output_type": "stream",
     "text": [
      "5\n"
     ]
    }
   ],
   "source": [
    "def max_profit(prices):\n",
    "    min_price = float('inf')  # Start with a very high minimum price\n",
    "    max_profit = 0  # Start with zero profit\n",
    "\n",
    "    # Iterate through each price in the list\n",
    "    for price in prices:\n",
    "        # Update min_price to the lowest price seen so far\n",
    "        if price < min_price:\n",
    "            min_price = price\n",
    "        else:\n",
    "            # Calculate profit if selling at current price\n",
    "            profit = price - min_price\n",
    "            # Update max_profit if the current profit is greater than the previous max_profit\n",
    "            if profit > max_profit:\n",
    "                max_profit = profit\n",
    "\n",
    "    return max_profit\n",
    "\n",
    "# Example usage:\n",
    "prices = [7, 1, 5, 3, 6, 4]\n",
    "print(max_profit(prices))  # Output: 5\n"
   ]
  },
  {
   "cell_type": "code",
   "execution_count": 118,
   "id": "4a072116",
   "metadata": {},
   "outputs": [
    {
     "name": "stdout",
     "output_type": "stream",
     "text": [
      "\n",
      "\n",
      "\n",
      "1 \n",
      "1 2 \n",
      "1 2 3 \n",
      "1 2 3 4 "
     ]
    }
   ],
   "source": [
    "rows = 6\n",
    "for i in range(rows):\n",
    "    print('')\n",
    "    for j in range(1,i):\n",
    "        # display number\n",
    "        print(j, end=' ')\n",
    "    # new line after each row\n",
    "    \n",
    "    "
   ]
  },
  {
   "cell_type": "code",
   "execution_count": 122,
   "id": "d8e8d25a",
   "metadata": {},
   "outputs": [
    {
     "name": "stdout",
     "output_type": "stream",
     "text": [
      "* \n",
      "* * \n",
      "* * * \n",
      "* * * * \n",
      "* * * * * \n"
     ]
    }
   ],
   "source": [
    "rows = 5\n",
    "for i in range(1, rows + 1):\n",
    "    for j in range(i):\n",
    "        print('*', end=' ')\n",
    "    print('')\n"
   ]
  },
  {
   "cell_type": "code",
   "execution_count": 127,
   "id": "b415ea88",
   "metadata": {},
   "outputs": [
    {
     "name": "stdout",
     "output_type": "stream",
     "text": [
      "\n",
      "* \n",
      "* * \n",
      "* * * \n",
      "* * * * "
     ]
    }
   ],
   "source": [
    "for i in range(1,5):\n",
    "    print()\n",
    "    for j in range(1,i+1):\n",
    "        print(\"*\",end=' ')"
   ]
  },
  {
   "cell_type": "code",
   "execution_count": 141,
   "id": "f777feb7",
   "metadata": {},
   "outputs": [
    {
     "name": "stdout",
     "output_type": "stream",
     "text": [
      "\n",
      "\n",
      "\n",
      "*\n",
      "**\n",
      "***\n",
      "****\n",
      "*****\n",
      "******"
     ]
    }
   ],
   "source": [
    "for j in range(1,9):\n",
    "    print()\n",
    "    for i in range(1,j-1):\n",
    "        print(\"*\",end='')"
   ]
  },
  {
   "cell_type": "markdown",
   "id": "7a97b405",
   "metadata": {},
   "source": [
    "##### "
   ]
  },
  {
   "cell_type": "code",
   "execution_count": 11,
   "id": "c77eb9ce",
   "metadata": {},
   "outputs": [
    {
     "name": "stdout",
     "output_type": "stream",
     "text": [
      "fl\n"
     ]
    }
   ],
   "source": [
    "def longestCommonPrefix(strs):\n",
    "    # If the list is empty, return an empty string\n",
    "    if not strs:\n",
    "        return \"\"\n",
    "\n",
    "    # Start with the first string as the assumed prefix\n",
    "    prefix = strs[0]\n",
    "\n",
    "    # Iterate over the rest of the strings\n",
    "    for s in strs[1:]:\n",
    "        # Reduce the prefix while it doesn't match the start of s\n",
    "        while not s.startswith(prefix):\n",
    "            prefix = prefix[:-1]  # Remove the last character from the prefix\n",
    "            if not prefix:\n",
    "                return \"\"\n",
    "\n",
    "    return prefix\n",
    "\n",
    "# Example usage\n",
    "strs = [\"flower\", \"flow\", \"flight\"]\n",
    "result = longestCommonPrefix(strs)\n",
    "print(result) \n"
   ]
  },
  {
   "cell_type": "code",
   "execution_count": 12,
   "id": "cd652a17",
   "metadata": {},
   "outputs": [
    {
     "name": "stdout",
     "output_type": "stream",
     "text": [
      "['0->2', '4->5', '7']\n"
     ]
    }
   ],
   "source": [
    "def summaryRanges(nums):\n",
    "    if not nums:\n",
    "        return []\n",
    "\n",
    "    ranges = []\n",
    "    start = nums[0]\n",
    "\n",
    "    for i in range(1, len(nums)):\n",
    "        # If the current number is not consecutive, finalize the previous range\n",
    "        if nums[i] != nums[i - 1] + 1:\n",
    "            if start == nums[i - 1]:\n",
    "                ranges.append(f\"{start}\")\n",
    "            else:\n",
    "                ranges.append(f\"{start}->{nums[i - 1]}\")\n",
    "            start = nums[i]\n",
    "\n",
    "    # Finalize the last range\n",
    "    if start == nums[-1]:\n",
    "        ranges.append(f\"{start}\")\n",
    "    else:\n",
    "        ranges.append(f\"{start}->{nums[-1]}\")\n",
    "\n",
    "    return ranges\n",
    "\n",
    "# Example usage\n",
    "nums = [0, 1, 2, 4, 5, 7]\n",
    "result = summaryRanges(nums)\n",
    "print(result) "
   ]
  },
  {
   "cell_type": "code",
   "execution_count": null,
   "id": "59aae666",
   "metadata": {},
   "outputs": [],
   "source": []
  },
  {
   "cell_type": "code",
   "execution_count": 13,
   "id": "e34baa73",
   "metadata": {},
   "outputs": [],
   "source": [
    "##pattern problems\n"
   ]
  },
  {
   "cell_type": "code",
   "execution_count": null,
   "id": "e36e08c1",
   "metadata": {},
   "outputs": [],
   "source": [
    "# 1.Right angled triangle pattern"
   ]
  },
  {
   "cell_type": "code",
   "execution_count": 20,
   "id": "fbe21e42",
   "metadata": {},
   "outputs": [
    {
     "name": "stdout",
     "output_type": "stream",
     "text": [
      "*\n",
      "**\n",
      "***\n",
      "****\n",
      "*****\n",
      "******\n"
     ]
    }
   ],
   "source": [
    "n=6\n",
    "for i in range(1,n+1):\n",
    "    print(\"*\" *i)"
   ]
  },
  {
   "cell_type": "code",
   "execution_count": 29,
   "id": "de4b91c1",
   "metadata": {},
   "outputs": [
    {
     "name": "stdout",
     "output_type": "stream",
     "text": [
      "*\n",
      "**\n",
      "***\n",
      "****\n",
      "*****\n"
     ]
    }
   ],
   "source": [
    "n = 5\n",
    "for i in range(1, n + 1):\n",
    "    for j in range(i):\n",
    "        print('*', end='')\n",
    "    print('')\n"
   ]
  },
  {
   "cell_type": "code",
   "execution_count": 21,
   "id": "0dfb9b9f",
   "metadata": {},
   "outputs": [],
   "source": [
    "#2.Inverted right angled triangle"
   ]
  },
  {
   "cell_type": "code",
   "execution_count": 27,
   "id": "a2c8d9dd",
   "metadata": {},
   "outputs": [
    {
     "name": "stdout",
     "output_type": "stream",
     "text": [
      "******\n",
      "*****\n",
      "****\n",
      "***\n",
      "**\n",
      "*\n"
     ]
    }
   ],
   "source": [
    "n=6\n",
    "for i in range(6,0,-1):\n",
    "    print(\"*\" *i)"
   ]
  },
  {
   "cell_type": "code",
   "execution_count": 30,
   "id": "ecf77b90",
   "metadata": {},
   "outputs": [],
   "source": [
    "#pyramid pattern\n"
   ]
  },
  {
   "cell_type": "code",
   "execution_count": 38,
   "id": "46d1291b",
   "metadata": {},
   "outputs": [
    {
     "name": "stdout",
     "output_type": "stream",
     "text": [
      "      \n",
      "     *\n",
      "    ***\n",
      "   *****\n",
      "  *******\n",
      " *********\n"
     ]
    }
   ],
   "source": [
    "n=6\n",
    "for i in range(0,6):\n",
    "    print(\" \"*(n-i)+\"*\" *(2*i-1))"
   ]
  },
  {
   "cell_type": "code",
   "execution_count": 41,
   "id": "6d6783d6",
   "metadata": {},
   "outputs": [
    {
     "name": "stdout",
     "output_type": "stream",
     "text": [
      "***********\n",
      " *********\n",
      "  *******\n",
      "   *****\n",
      "    ***\n",
      "     *\n"
     ]
    }
   ],
   "source": [
    "n=6\n",
    "for i in range(6,0,-1):\n",
    "    print(\" \"*(n-i)+\"*\" *(2*i-1))"
   ]
  },
  {
   "cell_type": "code",
   "execution_count": 42,
   "id": "d1fc41e7",
   "metadata": {},
   "outputs": [
    {
     "name": "stdout",
     "output_type": "stream",
     "text": [
      "      \n",
      "     *\n",
      "    ***\n",
      "   *****\n",
      "  *******\n",
      " *********\n",
      "***********\n",
      " *********\n",
      "  *******\n",
      "   *****\n",
      "    ***\n",
      "     *\n"
     ]
    }
   ],
   "source": [
    "n=6\n",
    "for i in range(0,6):\n",
    "    print(\" \"*(n-i)+\"*\" *(2*i-1))\n",
    "    \n",
    "for i in range(6,0,-1):\n",
    "    print(\" \"*(n-i)+\"*\" *(2*i-1))\n"
   ]
  },
  {
   "cell_type": "code",
   "execution_count": 44,
   "id": "1711ad29",
   "metadata": {},
   "outputs": [
    {
     "name": "stdout",
     "output_type": "stream",
     "text": [
      "     *\n",
      "    ***\n",
      "   *****\n",
      "  *******\n",
      " *********\n"
     ]
    }
   ],
   "source": [
    "n=6\n",
    "for i in range(1,6):\n",
    "    print(\" \"*(n-i)+\"*\" *(2*i-1))"
   ]
  },
  {
   "cell_type": "code",
   "execution_count": 50,
   "id": "08975380",
   "metadata": {},
   "outputs": [
    {
     "name": "stdout",
     "output_type": "stream",
     "text": [
      "     *\n",
      "    * *\n",
      "   *   *\n",
      "  *     *\n",
      " *       *\n",
      "***********\n"
     ]
    }
   ],
   "source": [
    "n=6\n",
    "for i in range(1,n+1):\n",
    "    if i==1 or i==n:\n",
    "        print(\" \"*(n-i)+\"*\"*(2*i-1))\n",
    "    else:\n",
    "        print(\" \"*(n-i)+\"*\"+\" \"*(2*i-3)+\"*\")\n"
   ]
  },
  {
   "cell_type": "code",
   "execution_count": 52,
   "id": "a0f93784",
   "metadata": {},
   "outputs": [
    {
     "name": "stdout",
     "output_type": "stream",
     "text": [
      "     *\n",
      "    * *\n",
      "   *   *\n",
      "  *     *\n",
      " *       *\n",
      "*         *\n",
      "*         *\n",
      " *       *\n",
      "  *     *\n",
      "   *   *\n",
      "    * *\n",
      "     *\n"
     ]
    }
   ],
   "source": [
    "n=6\n",
    "for i in range(1,n+1):\n",
    "    if i==1:\n",
    "        print(\" \"*(n-i)+\"*\"*(2*i-1))\n",
    "    else:\n",
    "        print(\" \"*(n-i)+\"*\"+\" \"*(2*i-3)+\"*\")\n",
    "for i in range(6,0,-1):\n",
    "    if  i==1:\n",
    "        print(\" \"*(n-i)+\"*\"*(2*i-1))\n",
    "    else:\n",
    "        print(\" \"*(n-i)+\"*\"+\" \"*(2*i-3)+\"*\")"
   ]
  },
  {
   "cell_type": "code",
   "execution_count": 59,
   "id": "0a492f49",
   "metadata": {},
   "outputs": [
    {
     "name": "stdout",
     "output_type": "stream",
     "text": [
      "\n",
      "1\n",
      "23\n",
      "456\n",
      "78910\n",
      "1112131415"
     ]
    }
   ],
   "source": [
    "num=1\n",
    "n=5\n",
    "for i in range(1,n+1):\n",
    "    print()\n",
    "    for j in range(1,i+1):\n",
    "        print(num,end='')\n",
    "        num=num+1"
   ]
  },
  {
   "cell_type": "code",
   "execution_count": 70,
   "id": "a8a02d9e",
   "metadata": {},
   "outputs": [
    {
     "name": "stdout",
     "output_type": "stream",
     "text": [
      "***\n",
      "***\n",
      "***\n"
     ]
    }
   ],
   "source": [
    "n=3\n",
    "for i in range(n):\n",
    "    print(\"*\" *n)"
   ]
  },
  {
   "cell_type": "code",
   "execution_count": 71,
   "id": "cf04f3da",
   "metadata": {},
   "outputs": [
    {
     "name": "stdout",
     "output_type": "stream",
     "text": [
      "*****\n",
      "*****\n",
      "*****\n",
      "*****\n",
      "*****\n"
     ]
    }
   ],
   "source": [
    "n=5\n",
    "for i in range(n):\n",
    "    print(\"*\" *n)"
   ]
  },
  {
   "cell_type": "code",
   "execution_count": 94,
   "id": "9cb07ed3",
   "metadata": {},
   "outputs": [
    {
     "name": "stdout",
     "output_type": "stream",
     "text": [
      "* * * * * \n",
      "*       *\n",
      "*       *\n",
      "*       *\n",
      "* * * * * \n"
     ]
    }
   ],
   "source": [
    "n=5\n",
    "for i in range(n):\n",
    "    if i==0 or i==n-1:\n",
    "        print((\"*\" +\" \")*n)\n",
    "    else:\n",
    "        print(\"*\"+\" \"*(n+2)+\"*\")"
   ]
  },
  {
   "cell_type": "code",
   "execution_count": 99,
   "id": "65e2655c",
   "metadata": {},
   "outputs": [
    {
     "name": "stdout",
     "output_type": "stream",
     "text": [
      "* * * * * \n",
      "*       * \n",
      "*       * \n",
      "*       * \n",
      "* * * * * \n"
     ]
    }
   ],
   "source": [
    "for i in range(1,6):\n",
    "    for j in range(1,6):\n",
    "        if i == 1 or i == 5:\n",
    "            print('*', end=' ')\n",
    "        elif j == 1 or j == 5:\n",
    "            print('*', end=' ')\n",
    "        else:\n",
    "            print(' ', end=' ')\n",
    "    print()"
   ]
  },
  {
   "cell_type": "code",
   "execution_count": 100,
   "id": "645e8bc7",
   "metadata": {},
   "outputs": [],
   "source": [
    "filename='mentor.txt'\n",
    "with open(filename,mode=\"w\")as file:\n",
    "    file.write(\"hello everyone .\\n\")\n",
    "    file.write(\"welcome to MC .\\n\")\n",
    "    "
   ]
  },
  {
   "cell_type": "code",
   "execution_count": 101,
   "id": "e1304efd",
   "metadata": {},
   "outputs": [],
   "source": [
    "mukilan=open('mentor.txt')"
   ]
  },
  {
   "cell_type": "code",
   "execution_count": 103,
   "id": "134c8a58",
   "metadata": {},
   "outputs": [
    {
     "data": {
      "text/plain": [
       "'hello everyone .\\nwelcome to MC .\\n'"
      ]
     },
     "execution_count": 103,
     "metadata": {},
     "output_type": "execute_result"
    }
   ],
   "source": [
    "mukilan.read()"
   ]
  },
  {
   "cell_type": "code",
   "execution_count": 104,
   "id": "a8688cea",
   "metadata": {},
   "outputs": [
    {
     "data": {
      "text/plain": [
       "''"
      ]
     },
     "execution_count": 104,
     "metadata": {},
     "output_type": "execute_result"
    }
   ],
   "source": [
    "mukilan.read()"
   ]
  },
  {
   "cell_type": "code",
   "execution_count": 105,
   "id": "9635c8e7",
   "metadata": {},
   "outputs": [
    {
     "data": {
      "text/plain": [
       "0"
      ]
     },
     "execution_count": 105,
     "metadata": {},
     "output_type": "execute_result"
    }
   ],
   "source": [
    "mukilan.seek(0)"
   ]
  },
  {
   "cell_type": "code",
   "execution_count": 106,
   "id": "42c2d5f8",
   "metadata": {},
   "outputs": [
    {
     "data": {
      "text/plain": [
       "'hello everyone .\\nwelcome to MC .\\n'"
      ]
     },
     "execution_count": 106,
     "metadata": {},
     "output_type": "execute_result"
    }
   ],
   "source": [
    "mukilan.read()"
   ]
  },
  {
   "cell_type": "code",
   "execution_count": 107,
   "id": "1c9a555e",
   "metadata": {},
   "outputs": [],
   "source": [
    "with open('mentor.txt',mode='a')as files:\n",
    "    files.write(\"cloud operations make easier\")"
   ]
  },
  {
   "cell_type": "code",
   "execution_count": 110,
   "id": "b94da3b1",
   "metadata": {},
   "outputs": [
    {
     "name": "stdout",
     "output_type": "stream",
     "text": [
      "hello everyone .\n",
      "welcome to MC .\n",
      "cloud operations make easier\n"
     ]
    }
   ],
   "source": [
    "with open('mentor.txt',mode='r')as files:\n",
    "    print(files.read())"
   ]
  },
  {
   "cell_type": "code",
   "execution_count": 112,
   "id": "6568fa8b",
   "metadata": {},
   "outputs": [],
   "source": [
    "with open('mentor.txt',mode='w')as files:\n",
    "    files.write(\"all are overwritten\")\n"
   ]
  },
  {
   "cell_type": "code",
   "execution_count": 114,
   "id": "e486def3",
   "metadata": {},
   "outputs": [
    {
     "name": "stdout",
     "output_type": "stream",
     "text": [
      "all are overwritten\n"
     ]
    }
   ],
   "source": [
    "with open('mentor.txt',mode='r')as files:\n",
    "    print(files.read())"
   ]
  },
  {
   "cell_type": "code",
   "execution_count": 118,
   "id": "c7b9f5d8",
   "metadata": {},
   "outputs": [],
   "source": [
    "mukil=open('mentor.txt')"
   ]
  },
  {
   "cell_type": "code",
   "execution_count": 121,
   "id": "40149e71",
   "metadata": {},
   "outputs": [],
   "source": [
    "m=mukil.read()"
   ]
  },
  {
   "cell_type": "code",
   "execution_count": 122,
   "id": "878f463e",
   "metadata": {},
   "outputs": [
    {
     "data": {
      "text/plain": [
       "''"
      ]
     },
     "execution_count": 122,
     "metadata": {},
     "output_type": "execute_result"
    }
   ],
   "source": [
    "m.replace('are','is')"
   ]
  },
  {
   "cell_type": "code",
   "execution_count": 123,
   "id": "bbee2c5d",
   "metadata": {},
   "outputs": [],
   "source": [
    "mukil=open('mentor.txt')"
   ]
  },
  {
   "cell_type": "code",
   "execution_count": 124,
   "id": "64f94109",
   "metadata": {},
   "outputs": [
    {
     "data": {
      "text/plain": [
       "'all are overwritten'"
      ]
     },
     "execution_count": 124,
     "metadata": {},
     "output_type": "execute_result"
    }
   ],
   "source": [
    "mukil.read()"
   ]
  },
  {
   "cell_type": "code",
   "execution_count": 125,
   "id": "ca7e06af",
   "metadata": {},
   "outputs": [],
   "source": [
    "with open('mentor.txt','r')as file:\n",
    "    content=file.read()\n",
    "update=content.replace('are','is')\n",
    "with open('mentor.txt','w')as file:\n",
    "    file.write(update)"
   ]
  },
  {
   "cell_type": "code",
   "execution_count": 126,
   "id": "2653006d",
   "metadata": {},
   "outputs": [
    {
     "ename": "ValueError",
     "evalue": "I/O operation on closed file.",
     "output_type": "error",
     "traceback": [
      "\u001b[1;31m---------------------------------------------------------------------------\u001b[0m",
      "\u001b[1;31mValueError\u001b[0m                                Traceback (most recent call last)",
      "Cell \u001b[1;32mIn[126], line 1\u001b[0m\n\u001b[1;32m----> 1\u001b[0m file\u001b[38;5;241m.\u001b[39mread()\n",
      "\u001b[1;31mValueError\u001b[0m: I/O operation on closed file."
     ]
    }
   ],
   "source": [
    "file.read()"
   ]
  },
  {
   "cell_type": "code",
   "execution_count": 127,
   "id": "b60be5bb",
   "metadata": {},
   "outputs": [
    {
     "data": {
      "text/plain": [
       "'all is overwritten'"
      ]
     },
     "execution_count": 127,
     "metadata": {},
     "output_type": "execute_result"
    }
   ],
   "source": [
    "mentor=open('mentor.txt')\n",
    "mentor.read()"
   ]
  },
  {
   "cell_type": "code",
   "execution_count": 129,
   "id": "4afd6c9d",
   "metadata": {},
   "outputs": [
    {
     "name": "stdout",
     "output_type": "stream",
     "text": [
      "hari\n",
      "hello\n"
     ]
    }
   ],
   "source": [
    "def first(func):\n",
    "    def sec():\n",
    "        print(\"hari\")\n",
    "        func()\n",
    "    return sec\n",
    "\n",
    "@first\n",
    "def third():\n",
    "    print(\"hello\")\n",
    "    \n",
    "third()"
   ]
  },
  {
   "cell_type": "code",
   "execution_count": 136,
   "id": "a953b4f2",
   "metadata": {},
   "outputs": [
    {
     "name": "stdout",
     "output_type": "stream",
     "text": [
      "welcome to montycloud\n",
      "adding features\n"
     ]
    }
   ],
   "source": [
    "def decoratorfunction(func):\n",
    "    def montycloud():\n",
    "        print(\"welcome to montycloud\")\n",
    "        func()\n",
    "    return montycloud\n",
    "    \n",
    "@decoratorfunction\n",
    "def adding():\n",
    "    print(\"adding features\")\n",
    "    \n",
    "adding()"
   ]
  },
  {
   "cell_type": "code",
   "execution_count": 142,
   "id": "697af6ec",
   "metadata": {},
   "outputs": [
    {
     "name": "stdout",
     "output_type": "stream",
     "text": [
      "hello all\n"
     ]
    }
   ],
   "source": [
    "def mukil(func):\n",
    "    func(\"hello all\")\n",
    "\n",
    "obje=mukil(print)"
   ]
  },
  {
   "cell_type": "code",
   "execution_count": 143,
   "id": "a83567cd",
   "metadata": {},
   "outputs": [
    {
     "name": "stdout",
     "output_type": "stream",
     "text": [
      "cloud\n",
      "is booming\n",
      "technology\n"
     ]
    }
   ],
   "source": [
    "def dec(func):\n",
    "    def cloud():\n",
    "        print(\"cloud\")\n",
    "        func()\n",
    "        print(\"technology\")\n",
    "    return cloud\n",
    "def rator():\n",
    "    print(\"is booming\")\n",
    "    \n",
    "objee=dec(rator)\n",
    "objee()"
   ]
  },
  {
   "cell_type": "code",
   "execution_count": null,
   "id": "f6c114eb",
   "metadata": {},
   "outputs": [],
   "source": []
  }
 ],
 "metadata": {
  "kernelspec": {
   "display_name": "Python 3 (ipykernel)",
   "language": "python",
   "name": "python3"
  },
  "language_info": {
   "codemirror_mode": {
    "name": "ipython",
    "version": 3
   },
   "file_extension": ".py",
   "mimetype": "text/x-python",
   "name": "python",
   "nbconvert_exporter": "python",
   "pygments_lexer": "ipython3",
   "version": "3.11.7"
  }
 },
 "nbformat": 4,
 "nbformat_minor": 5
}
